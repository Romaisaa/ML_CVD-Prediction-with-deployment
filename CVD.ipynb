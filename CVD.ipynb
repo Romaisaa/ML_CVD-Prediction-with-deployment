{
 "cells": [
  {
   "cell_type": "code",
   "execution_count": 881,
   "id": "b7fbd3ce",
   "metadata": {},
   "outputs": [],
   "source": [
    "import numpy as np\n",
    "import pandas as pd\n",
    "import matplotlib.pyplot as plt\n",
    "%matplotlib inline\n",
    "import seaborn as sns\n",
    "from sklearn.linear_model import LogisticRegression\n",
    "from sklearn.model_selection import train_test_split"
   ]
  },
  {
   "cell_type": "code",
   "execution_count": 882,
   "id": "8677d4ab",
   "metadata": {},
   "outputs": [
    {
     "data": {
      "text/html": [
       "<div>\n",
       "<style scoped>\n",
       "    .dataframe tbody tr th:only-of-type {\n",
       "        vertical-align: middle;\n",
       "    }\n",
       "\n",
       "    .dataframe tbody tr th {\n",
       "        vertical-align: top;\n",
       "    }\n",
       "\n",
       "    .dataframe thead th {\n",
       "        text-align: right;\n",
       "    }\n",
       "</style>\n",
       "<table border=\"1\" class=\"dataframe\">\n",
       "  <thead>\n",
       "    <tr style=\"text-align: right;\">\n",
       "      <th></th>\n",
       "      <th>id</th>\n",
       "      <th>age</th>\n",
       "      <th>gender</th>\n",
       "      <th>height</th>\n",
       "      <th>weight</th>\n",
       "      <th>ap_hi</th>\n",
       "      <th>ap_lo</th>\n",
       "      <th>cholesterol</th>\n",
       "      <th>gluc</th>\n",
       "      <th>smoke</th>\n",
       "      <th>alco</th>\n",
       "      <th>active</th>\n",
       "      <th>cardio</th>\n",
       "    </tr>\n",
       "  </thead>\n",
       "  <tbody>\n",
       "    <tr>\n",
       "      <th>0</th>\n",
       "      <td>988</td>\n",
       "      <td>22469</td>\n",
       "      <td>1</td>\n",
       "      <td>155</td>\n",
       "      <td>69.0</td>\n",
       "      <td>130</td>\n",
       "      <td>80</td>\n",
       "      <td>2</td>\n",
       "      <td>2</td>\n",
       "      <td>0</td>\n",
       "      <td>0</td>\n",
       "      <td>1</td>\n",
       "      <td>0</td>\n",
       "    </tr>\n",
       "    <tr>\n",
       "      <th>1</th>\n",
       "      <td>989</td>\n",
       "      <td>14648</td>\n",
       "      <td>1</td>\n",
       "      <td>163</td>\n",
       "      <td>71.0</td>\n",
       "      <td>110</td>\n",
       "      <td>70</td>\n",
       "      <td>1</td>\n",
       "      <td>1</td>\n",
       "      <td>0</td>\n",
       "      <td>0</td>\n",
       "      <td>1</td>\n",
       "      <td>1</td>\n",
       "    </tr>\n",
       "    <tr>\n",
       "      <th>2</th>\n",
       "      <td>990</td>\n",
       "      <td>21901</td>\n",
       "      <td>1</td>\n",
       "      <td>165</td>\n",
       "      <td>70.0</td>\n",
       "      <td>120</td>\n",
       "      <td>80</td>\n",
       "      <td>1</td>\n",
       "      <td>1</td>\n",
       "      <td>0</td>\n",
       "      <td>0</td>\n",
       "      <td>1</td>\n",
       "      <td>0</td>\n",
       "    </tr>\n",
       "    <tr>\n",
       "      <th>3</th>\n",
       "      <td>991</td>\n",
       "      <td>14549</td>\n",
       "      <td>2</td>\n",
       "      <td>165</td>\n",
       "      <td>85.0</td>\n",
       "      <td>120</td>\n",
       "      <td>80</td>\n",
       "      <td>1</td>\n",
       "      <td>1</td>\n",
       "      <td>1</td>\n",
       "      <td>1</td>\n",
       "      <td>1</td>\n",
       "      <td>0</td>\n",
       "    </tr>\n",
       "    <tr>\n",
       "      <th>4</th>\n",
       "      <td>992</td>\n",
       "      <td>23393</td>\n",
       "      <td>1</td>\n",
       "      <td>155</td>\n",
       "      <td>62.0</td>\n",
       "      <td>120</td>\n",
       "      <td>80</td>\n",
       "      <td>1</td>\n",
       "      <td>1</td>\n",
       "      <td>0</td>\n",
       "      <td>0</td>\n",
       "      <td>1</td>\n",
       "      <td>0</td>\n",
       "    </tr>\n",
       "  </tbody>\n",
       "</table>\n",
       "</div>"
      ],
      "text/plain": [
       "    id    age  gender  height  weight  ap_hi  ap_lo  cholesterol  gluc  smoke  \\\n",
       "0  988  22469       1     155    69.0    130     80            2     2      0   \n",
       "1  989  14648       1     163    71.0    110     70            1     1      0   \n",
       "2  990  21901       1     165    70.0    120     80            1     1      0   \n",
       "3  991  14549       2     165    85.0    120     80            1     1      1   \n",
       "4  992  23393       1     155    62.0    120     80            1     1      0   \n",
       "\n",
       "   alco  active  cardio  \n",
       "0     0       1       0  \n",
       "1     0       1       1  \n",
       "2     0       1       0  \n",
       "3     1       1       0  \n",
       "4     0       1       0  "
      ]
     },
     "execution_count": 882,
     "metadata": {},
     "output_type": "execute_result"
    }
   ],
   "source": [
    "ds=pd.read_csv(\"cardio_train.csv\", sep=';')\n",
    "ds.head()"
   ]
  },
  {
   "cell_type": "code",
   "execution_count": 883,
   "id": "e2fab8f8",
   "metadata": {},
   "outputs": [
    {
     "data": {
      "text/html": [
       "<div>\n",
       "<style scoped>\n",
       "    .dataframe tbody tr th:only-of-type {\n",
       "        vertical-align: middle;\n",
       "    }\n",
       "\n",
       "    .dataframe tbody tr th {\n",
       "        vertical-align: top;\n",
       "    }\n",
       "\n",
       "    .dataframe thead th {\n",
       "        text-align: right;\n",
       "    }\n",
       "</style>\n",
       "<table border=\"1\" class=\"dataframe\">\n",
       "  <thead>\n",
       "    <tr style=\"text-align: right;\">\n",
       "      <th></th>\n",
       "      <th>age</th>\n",
       "      <th>gender</th>\n",
       "      <th>height</th>\n",
       "      <th>weight</th>\n",
       "      <th>ap_hi</th>\n",
       "      <th>ap_lo</th>\n",
       "      <th>cholesterol</th>\n",
       "      <th>gluc</th>\n",
       "      <th>smoke</th>\n",
       "      <th>alco</th>\n",
       "      <th>active</th>\n",
       "      <th>cardio</th>\n",
       "    </tr>\n",
       "  </thead>\n",
       "  <tbody>\n",
       "    <tr>\n",
       "      <th>0</th>\n",
       "      <td>22469</td>\n",
       "      <td>1</td>\n",
       "      <td>155</td>\n",
       "      <td>69.0</td>\n",
       "      <td>130</td>\n",
       "      <td>80</td>\n",
       "      <td>2</td>\n",
       "      <td>2</td>\n",
       "      <td>0</td>\n",
       "      <td>0</td>\n",
       "      <td>1</td>\n",
       "      <td>0</td>\n",
       "    </tr>\n",
       "    <tr>\n",
       "      <th>1</th>\n",
       "      <td>14648</td>\n",
       "      <td>1</td>\n",
       "      <td>163</td>\n",
       "      <td>71.0</td>\n",
       "      <td>110</td>\n",
       "      <td>70</td>\n",
       "      <td>1</td>\n",
       "      <td>1</td>\n",
       "      <td>0</td>\n",
       "      <td>0</td>\n",
       "      <td>1</td>\n",
       "      <td>1</td>\n",
       "    </tr>\n",
       "    <tr>\n",
       "      <th>2</th>\n",
       "      <td>21901</td>\n",
       "      <td>1</td>\n",
       "      <td>165</td>\n",
       "      <td>70.0</td>\n",
       "      <td>120</td>\n",
       "      <td>80</td>\n",
       "      <td>1</td>\n",
       "      <td>1</td>\n",
       "      <td>0</td>\n",
       "      <td>0</td>\n",
       "      <td>1</td>\n",
       "      <td>0</td>\n",
       "    </tr>\n",
       "    <tr>\n",
       "      <th>3</th>\n",
       "      <td>14549</td>\n",
       "      <td>2</td>\n",
       "      <td>165</td>\n",
       "      <td>85.0</td>\n",
       "      <td>120</td>\n",
       "      <td>80</td>\n",
       "      <td>1</td>\n",
       "      <td>1</td>\n",
       "      <td>1</td>\n",
       "      <td>1</td>\n",
       "      <td>1</td>\n",
       "      <td>0</td>\n",
       "    </tr>\n",
       "    <tr>\n",
       "      <th>4</th>\n",
       "      <td>23393</td>\n",
       "      <td>1</td>\n",
       "      <td>155</td>\n",
       "      <td>62.0</td>\n",
       "      <td>120</td>\n",
       "      <td>80</td>\n",
       "      <td>1</td>\n",
       "      <td>1</td>\n",
       "      <td>0</td>\n",
       "      <td>0</td>\n",
       "      <td>1</td>\n",
       "      <td>0</td>\n",
       "    </tr>\n",
       "  </tbody>\n",
       "</table>\n",
       "</div>"
      ],
      "text/plain": [
       "     age  gender  height  weight  ap_hi  ap_lo  cholesterol  gluc  smoke  \\\n",
       "0  22469       1     155    69.0    130     80            2     2      0   \n",
       "1  14648       1     163    71.0    110     70            1     1      0   \n",
       "2  21901       1     165    70.0    120     80            1     1      0   \n",
       "3  14549       2     165    85.0    120     80            1     1      1   \n",
       "4  23393       1     155    62.0    120     80            1     1      0   \n",
       "\n",
       "   alco  active  cardio  \n",
       "0     0       1       0  \n",
       "1     0       1       1  \n",
       "2     0       1       0  \n",
       "3     1       1       0  \n",
       "4     0       1       0  "
      ]
     },
     "execution_count": 883,
     "metadata": {},
     "output_type": "execute_result"
    }
   ],
   "source": [
    "data = ds.drop(columns = ['id'])\n",
    "data.head()"
   ]
  },
  {
   "cell_type": "code",
   "execution_count": 884,
   "id": "5ebc1c0c",
   "metadata": {},
   "outputs": [
    {
     "data": {
      "text/html": [
       "<div>\n",
       "<style scoped>\n",
       "    .dataframe tbody tr th:only-of-type {\n",
       "        vertical-align: middle;\n",
       "    }\n",
       "\n",
       "    .dataframe tbody tr th {\n",
       "        vertical-align: top;\n",
       "    }\n",
       "\n",
       "    .dataframe thead th {\n",
       "        text-align: right;\n",
       "    }\n",
       "</style>\n",
       "<table border=\"1\" class=\"dataframe\">\n",
       "  <thead>\n",
       "    <tr style=\"text-align: right;\">\n",
       "      <th></th>\n",
       "      <th>age</th>\n",
       "      <th>gender</th>\n",
       "      <th>height</th>\n",
       "      <th>weight</th>\n",
       "      <th>ap_hi</th>\n",
       "      <th>ap_lo</th>\n",
       "      <th>cholesterol</th>\n",
       "      <th>gluc</th>\n",
       "      <th>smoke</th>\n",
       "      <th>alco</th>\n",
       "      <th>active</th>\n",
       "      <th>cardio</th>\n",
       "    </tr>\n",
       "  </thead>\n",
       "  <tbody>\n",
       "    <tr>\n",
       "      <th>count</th>\n",
       "      <td>69301.000000</td>\n",
       "      <td>69301.000000</td>\n",
       "      <td>69301.000000</td>\n",
       "      <td>69301.000000</td>\n",
       "      <td>69301.000000</td>\n",
       "      <td>69301.000000</td>\n",
       "      <td>69301.000000</td>\n",
       "      <td>69301.000000</td>\n",
       "      <td>69301.000000</td>\n",
       "      <td>69301.000000</td>\n",
       "      <td>69301.000000</td>\n",
       "      <td>69301.000000</td>\n",
       "    </tr>\n",
       "    <tr>\n",
       "      <th>mean</th>\n",
       "      <td>19468.786280</td>\n",
       "      <td>1.349519</td>\n",
       "      <td>164.362217</td>\n",
       "      <td>74.203027</td>\n",
       "      <td>128.829584</td>\n",
       "      <td>96.650092</td>\n",
       "      <td>1.366806</td>\n",
       "      <td>1.226447</td>\n",
       "      <td>0.088051</td>\n",
       "      <td>0.053881</td>\n",
       "      <td>0.803986</td>\n",
       "      <td>0.499589</td>\n",
       "    </tr>\n",
       "    <tr>\n",
       "      <th>std</th>\n",
       "      <td>2467.261818</td>\n",
       "      <td>0.476821</td>\n",
       "      <td>8.205337</td>\n",
       "      <td>14.383469</td>\n",
       "      <td>154.775805</td>\n",
       "      <td>189.096240</td>\n",
       "      <td>0.680270</td>\n",
       "      <td>0.572246</td>\n",
       "      <td>0.283371</td>\n",
       "      <td>0.225784</td>\n",
       "      <td>0.396982</td>\n",
       "      <td>0.500003</td>\n",
       "    </tr>\n",
       "    <tr>\n",
       "      <th>min</th>\n",
       "      <td>10798.000000</td>\n",
       "      <td>1.000000</td>\n",
       "      <td>55.000000</td>\n",
       "      <td>10.000000</td>\n",
       "      <td>-150.000000</td>\n",
       "      <td>-70.000000</td>\n",
       "      <td>1.000000</td>\n",
       "      <td>1.000000</td>\n",
       "      <td>0.000000</td>\n",
       "      <td>0.000000</td>\n",
       "      <td>0.000000</td>\n",
       "      <td>0.000000</td>\n",
       "    </tr>\n",
       "    <tr>\n",
       "      <th>25%</th>\n",
       "      <td>17664.000000</td>\n",
       "      <td>1.000000</td>\n",
       "      <td>159.000000</td>\n",
       "      <td>65.000000</td>\n",
       "      <td>120.000000</td>\n",
       "      <td>80.000000</td>\n",
       "      <td>1.000000</td>\n",
       "      <td>1.000000</td>\n",
       "      <td>0.000000</td>\n",
       "      <td>0.000000</td>\n",
       "      <td>1.000000</td>\n",
       "      <td>0.000000</td>\n",
       "    </tr>\n",
       "    <tr>\n",
       "      <th>50%</th>\n",
       "      <td>19704.000000</td>\n",
       "      <td>1.000000</td>\n",
       "      <td>165.000000</td>\n",
       "      <td>72.000000</td>\n",
       "      <td>120.000000</td>\n",
       "      <td>80.000000</td>\n",
       "      <td>1.000000</td>\n",
       "      <td>1.000000</td>\n",
       "      <td>0.000000</td>\n",
       "      <td>0.000000</td>\n",
       "      <td>1.000000</td>\n",
       "      <td>0.000000</td>\n",
       "    </tr>\n",
       "    <tr>\n",
       "      <th>75%</th>\n",
       "      <td>21326.000000</td>\n",
       "      <td>2.000000</td>\n",
       "      <td>170.000000</td>\n",
       "      <td>82.000000</td>\n",
       "      <td>140.000000</td>\n",
       "      <td>90.000000</td>\n",
       "      <td>2.000000</td>\n",
       "      <td>1.000000</td>\n",
       "      <td>0.000000</td>\n",
       "      <td>0.000000</td>\n",
       "      <td>1.000000</td>\n",
       "      <td>1.000000</td>\n",
       "    </tr>\n",
       "    <tr>\n",
       "      <th>max</th>\n",
       "      <td>23713.000000</td>\n",
       "      <td>2.000000</td>\n",
       "      <td>250.000000</td>\n",
       "      <td>200.000000</td>\n",
       "      <td>16020.000000</td>\n",
       "      <td>11000.000000</td>\n",
       "      <td>3.000000</td>\n",
       "      <td>3.000000</td>\n",
       "      <td>1.000000</td>\n",
       "      <td>1.000000</td>\n",
       "      <td>1.000000</td>\n",
       "      <td>1.000000</td>\n",
       "    </tr>\n",
       "  </tbody>\n",
       "</table>\n",
       "</div>"
      ],
      "text/plain": [
       "                age        gender        height        weight         ap_hi  \\\n",
       "count  69301.000000  69301.000000  69301.000000  69301.000000  69301.000000   \n",
       "mean   19468.786280      1.349519    164.362217     74.203027    128.829584   \n",
       "std     2467.261818      0.476821      8.205337     14.383469    154.775805   \n",
       "min    10798.000000      1.000000     55.000000     10.000000   -150.000000   \n",
       "25%    17664.000000      1.000000    159.000000     65.000000    120.000000   \n",
       "50%    19704.000000      1.000000    165.000000     72.000000    120.000000   \n",
       "75%    21326.000000      2.000000    170.000000     82.000000    140.000000   \n",
       "max    23713.000000      2.000000    250.000000    200.000000  16020.000000   \n",
       "\n",
       "              ap_lo   cholesterol          gluc         smoke          alco  \\\n",
       "count  69301.000000  69301.000000  69301.000000  69301.000000  69301.000000   \n",
       "mean      96.650092      1.366806      1.226447      0.088051      0.053881   \n",
       "std      189.096240      0.680270      0.572246      0.283371      0.225784   \n",
       "min      -70.000000      1.000000      1.000000      0.000000      0.000000   \n",
       "25%       80.000000      1.000000      1.000000      0.000000      0.000000   \n",
       "50%       80.000000      1.000000      1.000000      0.000000      0.000000   \n",
       "75%       90.000000      2.000000      1.000000      0.000000      0.000000   \n",
       "max    11000.000000      3.000000      3.000000      1.000000      1.000000   \n",
       "\n",
       "             active        cardio  \n",
       "count  69301.000000  69301.000000  \n",
       "mean       0.803986      0.499589  \n",
       "std        0.396982      0.500003  \n",
       "min        0.000000      0.000000  \n",
       "25%        1.000000      0.000000  \n",
       "50%        1.000000      0.000000  \n",
       "75%        1.000000      1.000000  \n",
       "max        1.000000      1.000000  "
      ]
     },
     "execution_count": 884,
     "metadata": {},
     "output_type": "execute_result"
    }
   ],
   "source": [
    "data.describe()"
   ]
  },
  {
   "cell_type": "code",
   "execution_count": 885,
   "id": "640361a2",
   "metadata": {},
   "outputs": [
    {
     "name": "stdout",
     "output_type": "stream",
     "text": [
      "<class 'pandas.core.frame.DataFrame'>\n",
      "RangeIndex: 69301 entries, 0 to 69300\n",
      "Data columns (total 12 columns):\n",
      " #   Column       Non-Null Count  Dtype  \n",
      "---  ------       --------------  -----  \n",
      " 0   age          69301 non-null  int64  \n",
      " 1   gender       69301 non-null  int64  \n",
      " 2   height       69301 non-null  int64  \n",
      " 3   weight       69301 non-null  float64\n",
      " 4   ap_hi        69301 non-null  int64  \n",
      " 5   ap_lo        69301 non-null  int64  \n",
      " 6   cholesterol  69301 non-null  int64  \n",
      " 7   gluc         69301 non-null  int64  \n",
      " 8   smoke        69301 non-null  int64  \n",
      " 9   alco         69301 non-null  int64  \n",
      " 10  active       69301 non-null  int64  \n",
      " 11  cardio       69301 non-null  int64  \n",
      "dtypes: float64(1), int64(11)\n",
      "memory usage: 6.3 MB\n"
     ]
    }
   ],
   "source": [
    "data.info()"
   ]
  },
  {
   "cell_type": "code",
   "execution_count": 886,
   "id": "fd09455b",
   "metadata": {},
   "outputs": [
    {
     "data": {
      "text/html": [
       "<div>\n",
       "<style scoped>\n",
       "    .dataframe tbody tr th:only-of-type {\n",
       "        vertical-align: middle;\n",
       "    }\n",
       "\n",
       "    .dataframe tbody tr th {\n",
       "        vertical-align: top;\n",
       "    }\n",
       "\n",
       "    .dataframe thead th {\n",
       "        text-align: right;\n",
       "    }\n",
       "</style>\n",
       "<table border=\"1\" class=\"dataframe\">\n",
       "  <thead>\n",
       "    <tr style=\"text-align: right;\">\n",
       "      <th></th>\n",
       "      <th>age</th>\n",
       "      <th>gender</th>\n",
       "      <th>height</th>\n",
       "      <th>weight</th>\n",
       "      <th>ap_hi</th>\n",
       "      <th>ap_lo</th>\n",
       "      <th>cholesterol</th>\n",
       "      <th>gluc</th>\n",
       "      <th>smoke</th>\n",
       "      <th>alco</th>\n",
       "      <th>active</th>\n",
       "      <th>cardio</th>\n",
       "      <th>bmi</th>\n",
       "    </tr>\n",
       "  </thead>\n",
       "  <tbody>\n",
       "    <tr>\n",
       "      <th>0</th>\n",
       "      <td>62</td>\n",
       "      <td>1</td>\n",
       "      <td>155</td>\n",
       "      <td>69.0</td>\n",
       "      <td>130</td>\n",
       "      <td>80</td>\n",
       "      <td>2</td>\n",
       "      <td>2</td>\n",
       "      <td>0</td>\n",
       "      <td>0</td>\n",
       "      <td>1</td>\n",
       "      <td>0</td>\n",
       "      <td>28.72</td>\n",
       "    </tr>\n",
       "    <tr>\n",
       "      <th>1</th>\n",
       "      <td>40</td>\n",
       "      <td>1</td>\n",
       "      <td>163</td>\n",
       "      <td>71.0</td>\n",
       "      <td>110</td>\n",
       "      <td>70</td>\n",
       "      <td>1</td>\n",
       "      <td>1</td>\n",
       "      <td>0</td>\n",
       "      <td>0</td>\n",
       "      <td>1</td>\n",
       "      <td>1</td>\n",
       "      <td>26.72</td>\n",
       "    </tr>\n",
       "    <tr>\n",
       "      <th>2</th>\n",
       "      <td>60</td>\n",
       "      <td>1</td>\n",
       "      <td>165</td>\n",
       "      <td>70.0</td>\n",
       "      <td>120</td>\n",
       "      <td>80</td>\n",
       "      <td>1</td>\n",
       "      <td>1</td>\n",
       "      <td>0</td>\n",
       "      <td>0</td>\n",
       "      <td>1</td>\n",
       "      <td>0</td>\n",
       "      <td>25.71</td>\n",
       "    </tr>\n",
       "    <tr>\n",
       "      <th>3</th>\n",
       "      <td>40</td>\n",
       "      <td>2</td>\n",
       "      <td>165</td>\n",
       "      <td>85.0</td>\n",
       "      <td>120</td>\n",
       "      <td>80</td>\n",
       "      <td>1</td>\n",
       "      <td>1</td>\n",
       "      <td>1</td>\n",
       "      <td>1</td>\n",
       "      <td>1</td>\n",
       "      <td>0</td>\n",
       "      <td>31.22</td>\n",
       "    </tr>\n",
       "    <tr>\n",
       "      <th>4</th>\n",
       "      <td>64</td>\n",
       "      <td>1</td>\n",
       "      <td>155</td>\n",
       "      <td>62.0</td>\n",
       "      <td>120</td>\n",
       "      <td>80</td>\n",
       "      <td>1</td>\n",
       "      <td>1</td>\n",
       "      <td>0</td>\n",
       "      <td>0</td>\n",
       "      <td>1</td>\n",
       "      <td>0</td>\n",
       "      <td>25.81</td>\n",
       "    </tr>\n",
       "    <tr>\n",
       "      <th>...</th>\n",
       "      <td>...</td>\n",
       "      <td>...</td>\n",
       "      <td>...</td>\n",
       "      <td>...</td>\n",
       "      <td>...</td>\n",
       "      <td>...</td>\n",
       "      <td>...</td>\n",
       "      <td>...</td>\n",
       "      <td>...</td>\n",
       "      <td>...</td>\n",
       "      <td>...</td>\n",
       "      <td>...</td>\n",
       "      <td>...</td>\n",
       "    </tr>\n",
       "    <tr>\n",
       "      <th>69296</th>\n",
       "      <td>53</td>\n",
       "      <td>2</td>\n",
       "      <td>168</td>\n",
       "      <td>76.0</td>\n",
       "      <td>120</td>\n",
       "      <td>80</td>\n",
       "      <td>1</td>\n",
       "      <td>1</td>\n",
       "      <td>1</td>\n",
       "      <td>0</td>\n",
       "      <td>1</td>\n",
       "      <td>0</td>\n",
       "      <td>26.93</td>\n",
       "    </tr>\n",
       "    <tr>\n",
       "      <th>69297</th>\n",
       "      <td>62</td>\n",
       "      <td>1</td>\n",
       "      <td>158</td>\n",
       "      <td>126.0</td>\n",
       "      <td>140</td>\n",
       "      <td>90</td>\n",
       "      <td>2</td>\n",
       "      <td>2</td>\n",
       "      <td>0</td>\n",
       "      <td>0</td>\n",
       "      <td>1</td>\n",
       "      <td>1</td>\n",
       "      <td>50.47</td>\n",
       "    </tr>\n",
       "    <tr>\n",
       "      <th>69298</th>\n",
       "      <td>52</td>\n",
       "      <td>2</td>\n",
       "      <td>183</td>\n",
       "      <td>105.0</td>\n",
       "      <td>180</td>\n",
       "      <td>90</td>\n",
       "      <td>3</td>\n",
       "      <td>1</td>\n",
       "      <td>0</td>\n",
       "      <td>1</td>\n",
       "      <td>0</td>\n",
       "      <td>1</td>\n",
       "      <td>31.35</td>\n",
       "    </tr>\n",
       "    <tr>\n",
       "      <th>69299</th>\n",
       "      <td>61</td>\n",
       "      <td>1</td>\n",
       "      <td>163</td>\n",
       "      <td>72.0</td>\n",
       "      <td>135</td>\n",
       "      <td>80</td>\n",
       "      <td>1</td>\n",
       "      <td>2</td>\n",
       "      <td>0</td>\n",
       "      <td>0</td>\n",
       "      <td>0</td>\n",
       "      <td>1</td>\n",
       "      <td>27.10</td>\n",
       "    </tr>\n",
       "    <tr>\n",
       "      <th>69300</th>\n",
       "      <td>56</td>\n",
       "      <td>1</td>\n",
       "      <td>170</td>\n",
       "      <td>72.0</td>\n",
       "      <td>120</td>\n",
       "      <td>80</td>\n",
       "      <td>2</td>\n",
       "      <td>1</td>\n",
       "      <td>0</td>\n",
       "      <td>0</td>\n",
       "      <td>1</td>\n",
       "      <td>0</td>\n",
       "      <td>24.91</td>\n",
       "    </tr>\n",
       "  </tbody>\n",
       "</table>\n",
       "<p>69301 rows × 13 columns</p>\n",
       "</div>"
      ],
      "text/plain": [
       "       age  gender  height  weight  ap_hi  ap_lo  cholesterol  gluc  smoke  \\\n",
       "0       62       1     155    69.0    130     80            2     2      0   \n",
       "1       40       1     163    71.0    110     70            1     1      0   \n",
       "2       60       1     165    70.0    120     80            1     1      0   \n",
       "3       40       2     165    85.0    120     80            1     1      1   \n",
       "4       64       1     155    62.0    120     80            1     1      0   \n",
       "...    ...     ...     ...     ...    ...    ...          ...   ...    ...   \n",
       "69296   53       2     168    76.0    120     80            1     1      1   \n",
       "69297   62       1     158   126.0    140     90            2     2      0   \n",
       "69298   52       2     183   105.0    180     90            3     1      0   \n",
       "69299   61       1     163    72.0    135     80            1     2      0   \n",
       "69300   56       1     170    72.0    120     80            2     1      0   \n",
       "\n",
       "       alco  active  cardio    bmi  \n",
       "0         0       1       0  28.72  \n",
       "1         0       1       1  26.72  \n",
       "2         0       1       0  25.71  \n",
       "3         1       1       0  31.22  \n",
       "4         0       1       0  25.81  \n",
       "...     ...     ...     ...    ...  \n",
       "69296     0       1       0  26.93  \n",
       "69297     0       1       1  50.47  \n",
       "69298     1       0       1  31.35  \n",
       "69299     0       0       1  27.10  \n",
       "69300     0       1       0  24.91  \n",
       "\n",
       "[69301 rows x 13 columns]"
      ]
     },
     "execution_count": 886,
     "metadata": {},
     "output_type": "execute_result"
    }
   ],
   "source": [
    "data['age'] = data['age'].map(lambda x: round(x/365))\n",
    "data['bmi'] = round(data['weight']/ (data['height']/100)**2, 2)\n",
    "data"
   ]
  },
  {
   "cell_type": "code",
   "execution_count": 887,
   "id": "959c47c8",
   "metadata": {},
   "outputs": [
    {
     "data": {
      "text/html": [
       "<div>\n",
       "<style scoped>\n",
       "    .dataframe tbody tr th:only-of-type {\n",
       "        vertical-align: middle;\n",
       "    }\n",
       "\n",
       "    .dataframe tbody tr th {\n",
       "        vertical-align: top;\n",
       "    }\n",
       "\n",
       "    .dataframe thead th {\n",
       "        text-align: right;\n",
       "    }\n",
       "</style>\n",
       "<table border=\"1\" class=\"dataframe\">\n",
       "  <thead>\n",
       "    <tr style=\"text-align: right;\">\n",
       "      <th></th>\n",
       "      <th>age</th>\n",
       "      <th>gender</th>\n",
       "      <th>height</th>\n",
       "      <th>weight</th>\n",
       "      <th>ap_hi</th>\n",
       "      <th>ap_lo</th>\n",
       "      <th>cholesterol</th>\n",
       "      <th>gluc</th>\n",
       "      <th>smoke</th>\n",
       "      <th>alco</th>\n",
       "      <th>active</th>\n",
       "      <th>cardio</th>\n",
       "      <th>bmi</th>\n",
       "    </tr>\n",
       "  </thead>\n",
       "  <tbody>\n",
       "    <tr>\n",
       "      <th>count</th>\n",
       "      <td>69301.000000</td>\n",
       "      <td>69301.000000</td>\n",
       "      <td>69301.000000</td>\n",
       "      <td>69301.000000</td>\n",
       "      <td>69301.000000</td>\n",
       "      <td>69301.000000</td>\n",
       "      <td>69301.000000</td>\n",
       "      <td>69301.000000</td>\n",
       "      <td>69301.000000</td>\n",
       "      <td>69301.000000</td>\n",
       "      <td>69301.000000</td>\n",
       "      <td>69301.000000</td>\n",
       "      <td>69301.000000</td>\n",
       "    </tr>\n",
       "    <tr>\n",
       "      <th>mean</th>\n",
       "      <td>53.338177</td>\n",
       "      <td>1.349519</td>\n",
       "      <td>164.362217</td>\n",
       "      <td>74.203027</td>\n",
       "      <td>128.829584</td>\n",
       "      <td>96.650092</td>\n",
       "      <td>1.366806</td>\n",
       "      <td>1.226447</td>\n",
       "      <td>0.088051</td>\n",
       "      <td>0.053881</td>\n",
       "      <td>0.803986</td>\n",
       "      <td>0.499589</td>\n",
       "      <td>27.554768</td>\n",
       "    </tr>\n",
       "    <tr>\n",
       "      <th>std</th>\n",
       "      <td>6.765427</td>\n",
       "      <td>0.476821</td>\n",
       "      <td>8.205337</td>\n",
       "      <td>14.383469</td>\n",
       "      <td>154.775805</td>\n",
       "      <td>189.096240</td>\n",
       "      <td>0.680270</td>\n",
       "      <td>0.572246</td>\n",
       "      <td>0.283371</td>\n",
       "      <td>0.225784</td>\n",
       "      <td>0.396982</td>\n",
       "      <td>0.500003</td>\n",
       "      <td>6.091927</td>\n",
       "    </tr>\n",
       "    <tr>\n",
       "      <th>min</th>\n",
       "      <td>30.000000</td>\n",
       "      <td>1.000000</td>\n",
       "      <td>55.000000</td>\n",
       "      <td>10.000000</td>\n",
       "      <td>-150.000000</td>\n",
       "      <td>-70.000000</td>\n",
       "      <td>1.000000</td>\n",
       "      <td>1.000000</td>\n",
       "      <td>0.000000</td>\n",
       "      <td>0.000000</td>\n",
       "      <td>0.000000</td>\n",
       "      <td>0.000000</td>\n",
       "      <td>3.470000</td>\n",
       "    </tr>\n",
       "    <tr>\n",
       "      <th>25%</th>\n",
       "      <td>48.000000</td>\n",
       "      <td>1.000000</td>\n",
       "      <td>159.000000</td>\n",
       "      <td>65.000000</td>\n",
       "      <td>120.000000</td>\n",
       "      <td>80.000000</td>\n",
       "      <td>1.000000</td>\n",
       "      <td>1.000000</td>\n",
       "      <td>0.000000</td>\n",
       "      <td>0.000000</td>\n",
       "      <td>1.000000</td>\n",
       "      <td>0.000000</td>\n",
       "      <td>23.880000</td>\n",
       "    </tr>\n",
       "    <tr>\n",
       "      <th>50%</th>\n",
       "      <td>54.000000</td>\n",
       "      <td>1.000000</td>\n",
       "      <td>165.000000</td>\n",
       "      <td>72.000000</td>\n",
       "      <td>120.000000</td>\n",
       "      <td>80.000000</td>\n",
       "      <td>1.000000</td>\n",
       "      <td>1.000000</td>\n",
       "      <td>0.000000</td>\n",
       "      <td>0.000000</td>\n",
       "      <td>1.000000</td>\n",
       "      <td>0.000000</td>\n",
       "      <td>26.370000</td>\n",
       "    </tr>\n",
       "    <tr>\n",
       "      <th>75%</th>\n",
       "      <td>58.000000</td>\n",
       "      <td>2.000000</td>\n",
       "      <td>170.000000</td>\n",
       "      <td>82.000000</td>\n",
       "      <td>140.000000</td>\n",
       "      <td>90.000000</td>\n",
       "      <td>2.000000</td>\n",
       "      <td>1.000000</td>\n",
       "      <td>0.000000</td>\n",
       "      <td>0.000000</td>\n",
       "      <td>1.000000</td>\n",
       "      <td>1.000000</td>\n",
       "      <td>30.220000</td>\n",
       "    </tr>\n",
       "    <tr>\n",
       "      <th>max</th>\n",
       "      <td>65.000000</td>\n",
       "      <td>2.000000</td>\n",
       "      <td>250.000000</td>\n",
       "      <td>200.000000</td>\n",
       "      <td>16020.000000</td>\n",
       "      <td>11000.000000</td>\n",
       "      <td>3.000000</td>\n",
       "      <td>3.000000</td>\n",
       "      <td>1.000000</td>\n",
       "      <td>1.000000</td>\n",
       "      <td>1.000000</td>\n",
       "      <td>1.000000</td>\n",
       "      <td>298.670000</td>\n",
       "    </tr>\n",
       "  </tbody>\n",
       "</table>\n",
       "</div>"
      ],
      "text/plain": [
       "                age        gender        height        weight         ap_hi  \\\n",
       "count  69301.000000  69301.000000  69301.000000  69301.000000  69301.000000   \n",
       "mean      53.338177      1.349519    164.362217     74.203027    128.829584   \n",
       "std        6.765427      0.476821      8.205337     14.383469    154.775805   \n",
       "min       30.000000      1.000000     55.000000     10.000000   -150.000000   \n",
       "25%       48.000000      1.000000    159.000000     65.000000    120.000000   \n",
       "50%       54.000000      1.000000    165.000000     72.000000    120.000000   \n",
       "75%       58.000000      2.000000    170.000000     82.000000    140.000000   \n",
       "max       65.000000      2.000000    250.000000    200.000000  16020.000000   \n",
       "\n",
       "              ap_lo   cholesterol          gluc         smoke          alco  \\\n",
       "count  69301.000000  69301.000000  69301.000000  69301.000000  69301.000000   \n",
       "mean      96.650092      1.366806      1.226447      0.088051      0.053881   \n",
       "std      189.096240      0.680270      0.572246      0.283371      0.225784   \n",
       "min      -70.000000      1.000000      1.000000      0.000000      0.000000   \n",
       "25%       80.000000      1.000000      1.000000      0.000000      0.000000   \n",
       "50%       80.000000      1.000000      1.000000      0.000000      0.000000   \n",
       "75%       90.000000      2.000000      1.000000      0.000000      0.000000   \n",
       "max    11000.000000      3.000000      3.000000      1.000000      1.000000   \n",
       "\n",
       "             active        cardio           bmi  \n",
       "count  69301.000000  69301.000000  69301.000000  \n",
       "mean       0.803986      0.499589     27.554768  \n",
       "std        0.396982      0.500003      6.091927  \n",
       "min        0.000000      0.000000      3.470000  \n",
       "25%        1.000000      0.000000     23.880000  \n",
       "50%        1.000000      0.000000     26.370000  \n",
       "75%        1.000000      1.000000     30.220000  \n",
       "max        1.000000      1.000000    298.670000  "
      ]
     },
     "execution_count": 887,
     "metadata": {},
     "output_type": "execute_result"
    }
   ],
   "source": [
    "data.describe()"
   ]
  },
  {
   "cell_type": "code",
   "execution_count": 888,
   "id": "48a942a6",
   "metadata": {},
   "outputs": [
    {
     "data": {
      "image/png": "[encoded data removed]",
      "text/plain": [
       "<Figure size 864x720 with 4 Axes>"
      ]
     },
     "metadata": {
      "needs_background": "light"
     },
     "output_type": "display_data"
    }
   ],
   "source": [
    "figure = plt.figure(figsize=(12,10))\n",
    "\n",
    "ax1 = plt.subplot(221)\n",
    "ax1 = plt.hist(data['height'], bins=50)\n",
    "ax1 = plt.title('height')\n",
    "\n",
    "ax2 = plt.subplot(222)\n",
    "ax2 = plt.hist(data['weight'], bins=50)\n",
    "ax2 = plt.title('weight')\n",
    "\n",
    "ax3 = plt.subplot(223)\n",
    "ax3 = plt.hist(data['ap_hi'], bins=50)\n",
    "ax3 = plt.title('ap_hi')\n",
    "\n",
    "ax4 = plt.subplot(224)\n",
    "ax4 = plt.hist(data['ap_lo'], bins=50)\n",
    "ax4 = plt.title('ap_lo')\n",
    "\n",
    "\n",
    "plt.show()"
   ]
  },
  {
   "cell_type": "code",
   "execution_count": 889,
   "id": "0b10b85c",
   "metadata": {},
   "outputs": [],
   "source": [
    "def outliers_iqr(ys):\n",
    "    quartile1, quartile3 = np.percentile(ys, [25,75])\n",
    "    iqr = quartile3 - quartile1\n",
    "    lower_bound = quartile1 - (iqr*3)\n",
    "    upper_bound = quartile3 + (iqr*3)\n",
    "    \n",
    "    print(f'Q1:{quartile1}, Q3:{quartile3}, IQR:{iqr}')\n",
    "    print(f'Lower Bound:{lower_bound}, Upper Bound:{upper_bound}')\n",
    "    \n",
    "    result = np.where((ys > upper_bound) | (ys < lower_bound))\n",
    "    boundary = (lower_bound, upper_bound)\n",
    "    \n",
    "    print(f'Number of outliers: {len(result[0])}')\n",
    "    \n",
    "    return result, boundary"
   ]
  },
  {
   "cell_type": "code",
   "execution_count": 890,
   "id": "01302c58",
   "metadata": {},
   "outputs": [
    {
     "name": "stdout",
     "output_type": "stream",
     "text": [
      "Q1:159.0, Q3:170.0, IQR:11.0\n",
      "Lower Bound:126.0, Upper Bound:203.0\n",
      "Number of outliers: 92\n"
     ]
    }
   ],
   "source": [
    "height_outlier_index = list(outliers_iqr(data['height'])[0][0])\n",
    "data_height_outlier = data.iloc[height_outlier_index,:]\n",
    "#data_height_outlier"
   ]
  },
  {
   "cell_type": "code",
   "execution_count": 891,
   "id": "e9048350",
   "metadata": {},
   "outputs": [
    {
     "name": "stdout",
     "output_type": "stream",
     "text": [
      "Q1:65.0, Q3:82.0, IQR:17.0\n",
      "Lower Bound:14.0, Upper Bound:133.0\n",
      "Number of outliers: 168\n"
     ]
    }
   ],
   "source": [
    "weight_outlier_index = list(outliers_iqr(data['weight'])[0][0])\n",
    "data_weight_outlier = data.iloc[weight_outlier_index,:]\n",
    "#data_weight_outlier"
   ]
  },
  {
   "cell_type": "code",
   "execution_count": 892,
   "id": "2795f3d0",
   "metadata": {},
   "outputs": [
    {
     "name": "stdout",
     "output_type": "stream",
     "text": [
      "Q1:23.88, Q3:30.22, IQR:6.34\n",
      "Lower Bound:4.859999999999999, Upper Bound:49.239999999999995\n",
      "Number of outliers: 276\n"
     ]
    }
   ],
   "source": [
    "weight_outlier_index = list(outliers_iqr(data['bmi'])[0][0])\n",
    "data_weight_outlier = data.iloc[weight_outlier_index,:]"
   ]
  },
  {
   "cell_type": "code",
   "execution_count": 893,
   "id": "b9db98d0",
   "metadata": {},
   "outputs": [
    {
     "name": "stdout",
     "output_type": "stream",
     "text": [
      "Q1:120.0, Q3:140.0, IQR:20.0\n",
      "Lower Bound:60.0, Upper Bound:200.0\n",
      "Number of outliers: 287\n"
     ]
    }
   ],
   "source": [
    "ap_hi_outlier_index = list(outliers_iqr(data['ap_hi'])[0][0])\n",
    "data_ap_hi_outlier = data.iloc[ap_hi_outlier_index,:]\n",
    "#data_ap_hi_outlier"
   ]
  },
  {
   "cell_type": "code",
   "execution_count": 894,
   "id": "b392fc13",
   "metadata": {},
   "outputs": [
    {
     "name": "stdout",
     "output_type": "stream",
     "text": [
      "Q1:80.0, Q3:90.0, IQR:10.0\n",
      "Lower Bound:50.0, Upper Bound:120.0\n",
      "Number of outliers: 1123\n"
     ]
    }
   ],
   "source": [
    "ap_lo_outlier_index = list(outliers_iqr(data['ap_lo'])[0][0])\n",
    "data_ap_lo_outlier = data.iloc[ap_hi_outlier_index,:]\n",
    "#data_ap_lo_outlier"
   ]
  },
  {
   "cell_type": "code",
   "execution_count": 895,
   "id": "2ef88cbe",
   "metadata": {},
   "outputs": [],
   "source": [
    "def handel_outliers(dataframe, column):\n",
    "    lower_bound = outliers_iqr(dataframe[column])[1][0]\n",
    "    upper_bound = outliers_iqr(dataframe[column])[1][1]\n",
    "    \n",
    "    dataframe.loc[(dataframe[column] < lower_bound), column] = lower_bound\n",
    "    dataframe.loc[(dataframe[column] > upper_bound), column] = upper_bound"
   ]
  },
  {
   "cell_type": "code",
   "execution_count": 896,
   "id": "262d7bec",
   "metadata": {},
   "outputs": [
    {
     "name": "stdout",
     "output_type": "stream",
     "text": [
      "Q1:159.0, Q3:170.0, IQR:11.0\n",
      "Lower Bound:126.0, Upper Bound:203.0\n",
      "Number of outliers: 92\n",
      "Q1:159.0, Q3:170.0, IQR:11.0\n",
      "Lower Bound:126.0, Upper Bound:203.0\n",
      "Number of outliers: 92\n",
      "Q1:65.0, Q3:82.0, IQR:17.0\n",
      "Lower Bound:14.0, Upper Bound:133.0\n",
      "Number of outliers: 168\n",
      "Q1:65.0, Q3:82.0, IQR:17.0\n",
      "Lower Bound:14.0, Upper Bound:133.0\n",
      "Number of outliers: 168\n",
      "Q1:120.0, Q3:140.0, IQR:20.0\n",
      "Lower Bound:60.0, Upper Bound:200.0\n",
      "Number of outliers: 287\n",
      "Q1:120.0, Q3:140.0, IQR:20.0\n",
      "Lower Bound:60.0, Upper Bound:200.0\n",
      "Number of outliers: 287\n",
      "Q1:80.0, Q3:90.0, IQR:10.0\n",
      "Lower Bound:50.0, Upper Bound:120.0\n",
      "Number of outliers: 1123\n",
      "Q1:80.0, Q3:90.0, IQR:10.0\n",
      "Lower Bound:50.0, Upper Bound:120.0\n",
      "Number of outliers: 1123\n",
      "Q1:23.88, Q3:30.22, IQR:6.34\n",
      "Lower Bound:4.859999999999999, Upper Bound:49.239999999999995\n",
      "Number of outliers: 276\n",
      "Q1:23.88, Q3:30.22, IQR:6.34\n",
      "Lower Bound:4.859999999999999, Upper Bound:49.239999999999995\n",
      "Number of outliers: 276\n"
     ]
    }
   ],
   "source": [
    "handel_outliers(data, 'height')\n",
    "handel_outliers(data, 'weight')\n",
    "handel_outliers(data, 'ap_hi')\n",
    "handel_outliers(data, 'ap_lo')\n",
    "handel_outliers(data, 'bmi')"
   ]
  },
  {
   "cell_type": "code",
   "execution_count": 897,
   "id": "efeccd24",
   "metadata": {},
   "outputs": [
    {
     "data": {
      "text/html": [
       "<div>\n",
       "<style scoped>\n",
       "    .dataframe tbody tr th:only-of-type {\n",
       "        vertical-align: middle;\n",
       "    }\n",
       "\n",
       "    .dataframe tbody tr th {\n",
       "        vertical-align: top;\n",
       "    }\n",
       "\n",
       "    .dataframe thead th {\n",
       "        text-align: right;\n",
       "    }\n",
       "</style>\n",
       "<table border=\"1\" class=\"dataframe\">\n",
       "  <thead>\n",
       "    <tr style=\"text-align: right;\">\n",
       "      <th></th>\n",
       "      <th>age</th>\n",
       "      <th>gender</th>\n",
       "      <th>height</th>\n",
       "      <th>weight</th>\n",
       "      <th>ap_hi</th>\n",
       "      <th>ap_lo</th>\n",
       "      <th>cholesterol</th>\n",
       "      <th>gluc</th>\n",
       "      <th>smoke</th>\n",
       "      <th>alco</th>\n",
       "      <th>active</th>\n",
       "      <th>cardio</th>\n",
       "      <th>bmi</th>\n",
       "    </tr>\n",
       "  </thead>\n",
       "  <tbody>\n",
       "    <tr>\n",
       "      <th>count</th>\n",
       "      <td>69301.000000</td>\n",
       "      <td>69301.000000</td>\n",
       "      <td>69301.000000</td>\n",
       "      <td>69301.00000</td>\n",
       "      <td>69301.000000</td>\n",
       "      <td>69301.000000</td>\n",
       "      <td>69301.000000</td>\n",
       "      <td>69301.000000</td>\n",
       "      <td>69301.000000</td>\n",
       "      <td>69301.000000</td>\n",
       "      <td>69301.000000</td>\n",
       "      <td>69301.000000</td>\n",
       "      <td>69301.000000</td>\n",
       "    </tr>\n",
       "    <tr>\n",
       "      <th>mean</th>\n",
       "      <td>53.338177</td>\n",
       "      <td>1.349519</td>\n",
       "      <td>164.391611</td>\n",
       "      <td>74.16499</td>\n",
       "      <td>126.840089</td>\n",
       "      <td>81.850882</td>\n",
       "      <td>1.366806</td>\n",
       "      <td>1.226447</td>\n",
       "      <td>0.088051</td>\n",
       "      <td>0.053881</td>\n",
       "      <td>0.803986</td>\n",
       "      <td>0.499589</td>\n",
       "      <td>27.485422</td>\n",
       "    </tr>\n",
       "    <tr>\n",
       "      <th>std</th>\n",
       "      <td>6.765427</td>\n",
       "      <td>0.476821</td>\n",
       "      <td>7.975591</td>\n",
       "      <td>14.18814</td>\n",
       "      <td>17.430286</td>\n",
       "      <td>10.464494</td>\n",
       "      <td>0.680270</td>\n",
       "      <td>0.572246</td>\n",
       "      <td>0.283371</td>\n",
       "      <td>0.225784</td>\n",
       "      <td>0.396982</td>\n",
       "      <td>0.500003</td>\n",
       "      <td>5.216751</td>\n",
       "    </tr>\n",
       "    <tr>\n",
       "      <th>min</th>\n",
       "      <td>30.000000</td>\n",
       "      <td>1.000000</td>\n",
       "      <td>126.000000</td>\n",
       "      <td>14.00000</td>\n",
       "      <td>60.000000</td>\n",
       "      <td>50.000000</td>\n",
       "      <td>1.000000</td>\n",
       "      <td>1.000000</td>\n",
       "      <td>0.000000</td>\n",
       "      <td>0.000000</td>\n",
       "      <td>0.000000</td>\n",
       "      <td>0.000000</td>\n",
       "      <td>4.860000</td>\n",
       "    </tr>\n",
       "    <tr>\n",
       "      <th>25%</th>\n",
       "      <td>48.000000</td>\n",
       "      <td>1.000000</td>\n",
       "      <td>159.000000</td>\n",
       "      <td>65.00000</td>\n",
       "      <td>120.000000</td>\n",
       "      <td>80.000000</td>\n",
       "      <td>1.000000</td>\n",
       "      <td>1.000000</td>\n",
       "      <td>0.000000</td>\n",
       "      <td>0.000000</td>\n",
       "      <td>1.000000</td>\n",
       "      <td>0.000000</td>\n",
       "      <td>23.880000</td>\n",
       "    </tr>\n",
       "    <tr>\n",
       "      <th>50%</th>\n",
       "      <td>54.000000</td>\n",
       "      <td>1.000000</td>\n",
       "      <td>165.000000</td>\n",
       "      <td>72.00000</td>\n",
       "      <td>120.000000</td>\n",
       "      <td>80.000000</td>\n",
       "      <td>1.000000</td>\n",
       "      <td>1.000000</td>\n",
       "      <td>0.000000</td>\n",
       "      <td>0.000000</td>\n",
       "      <td>1.000000</td>\n",
       "      <td>0.000000</td>\n",
       "      <td>26.370000</td>\n",
       "    </tr>\n",
       "    <tr>\n",
       "      <th>75%</th>\n",
       "      <td>58.000000</td>\n",
       "      <td>2.000000</td>\n",
       "      <td>170.000000</td>\n",
       "      <td>82.00000</td>\n",
       "      <td>140.000000</td>\n",
       "      <td>90.000000</td>\n",
       "      <td>2.000000</td>\n",
       "      <td>1.000000</td>\n",
       "      <td>0.000000</td>\n",
       "      <td>0.000000</td>\n",
       "      <td>1.000000</td>\n",
       "      <td>1.000000</td>\n",
       "      <td>30.220000</td>\n",
       "    </tr>\n",
       "    <tr>\n",
       "      <th>max</th>\n",
       "      <td>65.000000</td>\n",
       "      <td>2.000000</td>\n",
       "      <td>203.000000</td>\n",
       "      <td>133.00000</td>\n",
       "      <td>200.000000</td>\n",
       "      <td>120.000000</td>\n",
       "      <td>3.000000</td>\n",
       "      <td>3.000000</td>\n",
       "      <td>1.000000</td>\n",
       "      <td>1.000000</td>\n",
       "      <td>1.000000</td>\n",
       "      <td>1.000000</td>\n",
       "      <td>49.240000</td>\n",
       "    </tr>\n",
       "  </tbody>\n",
       "</table>\n",
       "</div>"
      ],
      "text/plain": [
       "                age        gender        height       weight         ap_hi  \\\n",
       "count  69301.000000  69301.000000  69301.000000  69301.00000  69301.000000   \n",
       "mean      53.338177      1.349519    164.391611     74.16499    126.840089   \n",
       "std        6.765427      0.476821      7.975591     14.18814     17.430286   \n",
       "min       30.000000      1.000000    126.000000     14.00000     60.000000   \n",
       "25%       48.000000      1.000000    159.000000     65.00000    120.000000   \n",
       "50%       54.000000      1.000000    165.000000     72.00000    120.000000   \n",
       "75%       58.000000      2.000000    170.000000     82.00000    140.000000   \n",
       "max       65.000000      2.000000    203.000000    133.00000    200.000000   \n",
       "\n",
       "              ap_lo   cholesterol          gluc         smoke          alco  \\\n",
       "count  69301.000000  69301.000000  69301.000000  69301.000000  69301.000000   \n",
       "mean      81.850882      1.366806      1.226447      0.088051      0.053881   \n",
       "std       10.464494      0.680270      0.572246      0.283371      0.225784   \n",
       "min       50.000000      1.000000      1.000000      0.000000      0.000000   \n",
       "25%       80.000000      1.000000      1.000000      0.000000      0.000000   \n",
       "50%       80.000000      1.000000      1.000000      0.000000      0.000000   \n",
       "75%       90.000000      2.000000      1.000000      0.000000      0.000000   \n",
       "max      120.000000      3.000000      3.000000      1.000000      1.000000   \n",
       "\n",
       "             active        cardio           bmi  \n",
       "count  69301.000000  69301.000000  69301.000000  \n",
       "mean       0.803986      0.499589     27.485422  \n",
       "std        0.396982      0.500003      5.216751  \n",
       "min        0.000000      0.000000      4.860000  \n",
       "25%        1.000000      0.000000     23.880000  \n",
       "50%        1.000000      0.000000     26.370000  \n",
       "75%        1.000000      1.000000     30.220000  \n",
       "max        1.000000      1.000000     49.240000  "
      ]
     },
     "execution_count": 897,
     "metadata": {},
     "output_type": "execute_result"
    }
   ],
   "source": [
    "data.describe()"
   ]
  },
  {
   "cell_type": "code",
   "execution_count": 898,
   "id": "e03e9863",
   "metadata": {},
   "outputs": [
    {
     "data": {
      "text/plain": [
       "0    34679\n",
       "1    34622\n",
       "Name: cardio, dtype: int64"
      ]
     },
     "execution_count": 898,
     "metadata": {},
     "output_type": "execute_result"
    }
   ],
   "source": [
    "data.cardio.value_counts()"
   ]
  },
  {
   "cell_type": "code",
   "execution_count": 899,
   "id": "b503c9e9",
   "metadata": {},
   "outputs": [
    {
     "data": {
      "text/plain": [
       "<AxesSubplot:xlabel='cardio', ylabel='count'>"
      ]
     },
     "execution_count": 899,
     "metadata": {},
     "output_type": "execute_result"
    },
    {
     "data": {
      "image/png": "[encoded data removed]",
      "text/plain": [
       "<Figure size 432x288 with 1 Axes>"
      ]
     },
     "metadata": {
      "needs_background": "light"
     },
     "output_type": "display_data"
    }
   ],
   "source": [
    "sns.countplot(x='cardio',data=data)"
   ]
  },
  {
   "cell_type": "code",
   "execution_count": 900,
   "id": "ef4c6c64",
   "metadata": {},
   "outputs": [
    {
     "data": {
      "text/plain": [
       "1    45079\n",
       "2    24222\n",
       "Name: gender, dtype: int64"
      ]
     },
     "execution_count": 900,
     "metadata": {},
     "output_type": "execute_result"
    }
   ],
   "source": [
    "data.gender.value_counts()"
   ]
  },
  {
   "cell_type": "code",
   "execution_count": 901,
   "id": "2d082249",
   "metadata": {},
   "outputs": [
    {
     "data": {
      "text/plain": [
       "1    58885\n",
       "3     5277\n",
       "2     5139\n",
       "Name: gluc, dtype: int64"
      ]
     },
     "execution_count": 901,
     "metadata": {},
     "output_type": "execute_result"
    }
   ],
   "source": [
    "data.gluc.value_counts()"
   ]
  },
  {
   "cell_type": "code",
   "execution_count": 902,
   "id": "cf0faad0",
   "metadata": {},
   "outputs": [
    {
     "data": {
      "text/plain": [
       "1    51868\n",
       "2     9446\n",
       "3     7987\n",
       "Name: cholesterol, dtype: int64"
      ]
     },
     "execution_count": 902,
     "metadata": {},
     "output_type": "execute_result"
    }
   ],
   "source": [
    "data.cholesterol.value_counts()"
   ]
  },
  {
   "cell_type": "code",
   "execution_count": 903,
   "id": "3318f082",
   "metadata": {},
   "outputs": [
    {
     "data": {
      "text/plain": [
       "0    63199\n",
       "1     6102\n",
       "Name: smoke, dtype: int64"
      ]
     },
     "execution_count": 903,
     "metadata": {},
     "output_type": "execute_result"
    }
   ],
   "source": [
    "data.smoke.value_counts()"
   ]
  },
  {
   "cell_type": "code",
   "execution_count": 904,
   "id": "7fe6c726",
   "metadata": {},
   "outputs": [
    {
     "data": {
      "text/plain": [
       "0    65567\n",
       "1     3734\n",
       "Name: alco, dtype: int64"
      ]
     },
     "execution_count": 904,
     "metadata": {},
     "output_type": "execute_result"
    }
   ],
   "source": [
    "data.alco.value_counts()"
   ]
  },
  {
   "cell_type": "code",
   "execution_count": 905,
   "id": "c9386e44",
   "metadata": {},
   "outputs": [
    {
     "data": {
      "text/plain": [
       "1    55717\n",
       "0    13584\n",
       "Name: active, dtype: int64"
      ]
     },
     "execution_count": 905,
     "metadata": {},
     "output_type": "execute_result"
    }
   ],
   "source": [
    "data.active.value_counts()"
   ]
  },
  {
   "cell_type": "code",
   "execution_count": 906,
   "id": "c13f2f43",
   "metadata": {},
   "outputs": [
    {
     "data": {
      "image/png": "[encoded data removed]",
      "text/plain": [
       "<Figure size 864x720 with 6 Axes>"
      ]
     },
     "metadata": {
      "needs_background": "light"
     },
     "output_type": "display_data"
    }
   ],
   "source": [
    "figure3 = plt.figure(figsize = (12,10))\n",
    "\n",
    "plt.subplot(2,3,1)\n",
    "sns.countplot(x='active',data=data)\n",
    "\n",
    "plt.subplot(2,3,2)\n",
    "sns.countplot(x='alco',data=data)\n",
    "\n",
    "plt.subplot(2,3,3)\n",
    "sns.countplot(x='gluc',data=data)\n",
    "\n",
    "plt.subplot(2,3,4)\n",
    "sns.countplot(x='gender',data=data)\n",
    "\n",
    "plt.subplot(2,3,5)\n",
    "sns.countplot(x='cholesterol',data=data)\n",
    "\n",
    "plt.subplot(2,3,6)\n",
    "sns.countplot(x='smoke',data=data)\n",
    "\n",
    "plt.tight_layout()\n",
    "plt.show()"
   ]
  },
  {
   "cell_type": "code",
   "execution_count": 907,
   "id": "27681d06",
   "metadata": {},
   "outputs": [
    {
     "name": "stderr",
     "output_type": "stream",
     "text": [
      "C:\\Users\\hp\\anaconda3\\lib\\site-packages\\seaborn\\distributions.py:2619: FutureWarning: `distplot` is a deprecated function and will be removed in a future version. Please adapt your code to use either `displot` (a figure-level function with similar flexibility) or `histplot` (an axes-level function for histograms).\n",
      "  warnings.warn(msg, FutureWarning)\n"
     ]
    },
    {
     "data": {
      "image/png": "[encoded data removed]",
      "text/plain": [
       "<Figure size 864x720 with 6 Axes>"
      ]
     },
     "metadata": {
      "needs_background": "light"
     },
     "output_type": "display_data"
    }
   ],
   "source": [
    "figure3 = plt.figure(figsize = (12,10))\n",
    "\n",
    "plt.subplot(2,3,1)\n",
    "sns.distplot(data['age'], bins=15, kde=False, color=\"red\")\n",
    "\n",
    "plt.subplot(2,3,2)\n",
    "sns.distplot(data['height'], bins=25, kde=False, color=\"red\")\n",
    "\n",
    "plt.subplot(2,3,3)\n",
    "sns.distplot(data['weight'], bins=25, kde=False, color=\"red\")\n",
    "\n",
    "plt.subplot(2,3,4)\n",
    "sns.distplot(data['bmi'], bins=25, kde=False, color=\"red\")\n",
    "\n",
    "\n",
    "plt.subplot(2,3,5)\n",
    "sns.distplot(data['ap_lo'], bins=15, kde=False, color=\"red\")\n",
    "\n",
    "plt.subplot(2,3,6)\n",
    "sns.distplot(data['ap_hi'], bins=15, kde=False, color=\"red\")\n",
    "\n",
    "plt.tight_layout()\n",
    "\n",
    "plt.show()"
   ]
  },
  {
   "cell_type": "code",
   "execution_count": 908,
   "id": "ca80fe65",
   "metadata": {},
   "outputs": [
    {
     "data": {
      "image/png": "[encoded data removed]",
      "text/plain": [
       "<Figure size 864x720 with 6 Axes>"
      ]
     },
     "metadata": {
      "needs_background": "light"
     },
     "output_type": "display_data"
    }
   ],
   "source": [
    "figure3 = plt.figure(figsize = (12,10))\n",
    "\n",
    "plt.subplot(2,3,1)\n",
    "sns.boxplot(x='cardio', y='age', data=data)\n",
    "\n",
    "plt.subplot(2,3,2)\n",
    "sns.boxplot(x='cardio', y='weight', data=data)\n",
    "\n",
    "plt.subplot(2,3,3)\n",
    "sns.boxplot(x='cardio', y='height', data=data)\n",
    "\n",
    "plt.subplot(2,3,4)\n",
    "sns.boxplot(x='cardio', y='bmi', data=data)\n",
    "\n",
    "\n",
    "plt.subplot(2,3,5)\n",
    "sns.boxplot(x='cardio', y='ap_hi', data=data)\n",
    "\n",
    "plt.subplot(2,3,6)\n",
    "sns.boxplot(x='cardio', y='ap_lo', data=data)\n",
    "\n",
    "plt.tight_layout()\n",
    "\n",
    "plt.show()"
   ]
  },
  {
   "cell_type": "code",
   "execution_count": 909,
   "id": "18c3c7cf",
   "metadata": {},
   "outputs": [],
   "source": [
    "sns.set_palette(\"GnBu_d\")\n",
    "sns.set_style('whitegrid')"
   ]
  },
  {
   "cell_type": "code",
   "execution_count": 910,
   "id": "46827baf",
   "metadata": {},
   "outputs": [
    {
     "data": {
      "text/plain": [
       "<seaborn.axisgrid.JointGrid at 0x22bb627ac40>"
      ]
     },
     "execution_count": 910,
     "metadata": {},
     "output_type": "execute_result"
    },
    {
     "data": {
      "image/png": "[encoded data removed]",
      "text/plain": [
       "<Figure size 432x432 with 3 Axes>"
      ]
     },
     "metadata": {},
     "output_type": "display_data"
    }
   ],
   "source": [
    "sns.jointplot(x = 'cardio', y = 'ap_lo', data = data)"
   ]
  },
  {
   "cell_type": "code",
   "execution_count": 911,
   "id": "9ef61520",
   "metadata": {},
   "outputs": [
    {
     "data": {
      "text/plain": [
       "<seaborn.axisgrid.JointGrid at 0x22bb7c1cac0>"
      ]
     },
     "execution_count": 911,
     "metadata": {},
     "output_type": "execute_result"
    },
    {
     "data": {
      "image/png": "[encoded data removed]",
      "text/plain": [
       "<Figure size 432x432 with 3 Axes>"
      ]
     },
     "metadata": {},
     "output_type": "display_data"
    }
   ],
   "source": [
    "sns.jointplot(x = 'cardio', y = 'ap_hi', data = data)"
   ]
  },
  {
   "cell_type": "code",
   "execution_count": 912,
   "id": "97cdcf2b",
   "metadata": {},
   "outputs": [
    {
     "data": {
      "text/plain": [
       "<seaborn.axisgrid.JointGrid at 0x22bb7c80e80>"
      ]
     },
     "execution_count": 912,
     "metadata": {},
     "output_type": "execute_result"
    },
    {
     "data": {
      "image/png": "[encoded data removed]",
      "text/plain": [
       "<Figure size 432x432 with 3 Axes>"
      ]
     },
     "metadata": {},
     "output_type": "display_data"
    }
   ],
   "source": [
    "sns.jointplot(x = 'cardio', y = 'age', data = data)"
   ]
  },
  {
   "cell_type": "code",
   "execution_count": 913,
   "id": "68b34ed4",
   "metadata": {},
   "outputs": [
    {
     "data": {
      "text/plain": [
       "<seaborn.axisgrid.JointGrid at 0x22bab85be50>"
      ]
     },
     "execution_count": 913,
     "metadata": {},
     "output_type": "execute_result"
    },
    {
     "data": {
      "image/png": "[encoded data removed]",
      "text/plain": [
       "<Figure size 432x432 with 3 Axes>"
      ]
     },
     "metadata": {},
     "output_type": "display_data"
    }
   ],
   "source": [
    "sns.jointplot(x='cardio', y='bmi', data=data)"
   ]
  },
  {
   "cell_type": "code",
   "execution_count": 914,
   "id": "e2a2675b",
   "metadata": {},
   "outputs": [
    {
     "data": {
      "text/plain": [
       "<seaborn.axisgrid.FacetGrid at 0x22bba3f4820>"
      ]
     },
     "execution_count": 914,
     "metadata": {},
     "output_type": "execute_result"
    },
    {
     "data": {
      "image/png": "[encoded data removed]",
      "text/plain": [
       "<Figure size 432x216 with 2 Axes>"
      ]
     },
     "metadata": {},
     "output_type": "display_data"
    }
   ],
   "source": [
    "g = sns.FacetGrid(data=data,col='gender')\n",
    "g.map(plt.hist,'cardio')"
   ]
  },
  {
   "cell_type": "code",
   "execution_count": 915,
   "id": "e6b006a0",
   "metadata": {},
   "outputs": [
    {
     "data": {
      "text/plain": [
       "<seaborn.axisgrid.FacetGrid at 0x22bba42e700>"
      ]
     },
     "execution_count": 915,
     "metadata": {},
     "output_type": "execute_result"
    },
    {
     "data": {
      "image/png": "[encoded data removed]",
      "text/plain": [
       "<Figure size 648x216 with 3 Axes>"
      ]
     },
     "metadata": {},
     "output_type": "display_data"
    }
   ],
   "source": [
    "g = sns.FacetGrid(data=data,col='gluc')\n",
    "g.map(plt.hist,'cardio')"
   ]
  },
  {
   "cell_type": "code",
   "execution_count": 916,
   "id": "9b0f4c0b",
   "metadata": {},
   "outputs": [
    {
     "data": {
      "text/plain": [
       "<seaborn.axisgrid.FacetGrid at 0x22bba5fb4c0>"
      ]
     },
     "execution_count": 916,
     "metadata": {},
     "output_type": "execute_result"
    },
    {
     "data": {
      "image/png": "[encoded data removed]",
      "text/plain": [
       "<Figure size 432x216 with 2 Axes>"
      ]
     },
     "metadata": {},
     "output_type": "display_data"
    }
   ],
   "source": [
    "g = sns.FacetGrid(data=data,col='smoke')\n",
    "g.map(plt.hist,'cardio')"
   ]
  },
  {
   "cell_type": "code",
   "execution_count": 917,
   "id": "3c39e5bc",
   "metadata": {},
   "outputs": [
    {
     "data": {
      "text/plain": [
       "<seaborn.axisgrid.FacetGrid at 0x22bba622dc0>"
      ]
     },
     "execution_count": 917,
     "metadata": {},
     "output_type": "execute_result"
    },
    {
     "data": {
      "image/png": "[encoded data removed]",
      "text/plain": [
       "<Figure size 432x216 with 2 Axes>"
      ]
     },
     "metadata": {},
     "output_type": "display_data"
    }
   ],
   "source": [
    "g = sns.FacetGrid(data=data,col='alco')\n",
    "g.map(plt.hist,'cardio')"
   ]
  },
  {
   "cell_type": "code",
   "execution_count": 918,
   "id": "63a38221",
   "metadata": {},
   "outputs": [
    {
     "data": {
      "text/plain": [
       "<seaborn.axisgrid.FacetGrid at 0x22bba7dc160>"
      ]
     },
     "execution_count": 918,
     "metadata": {},
     "output_type": "execute_result"
    },
    {
     "data": {
      "image/png": "[encoded data removed]",
      "text/plain": [
       "<Figure size 432x216 with 2 Axes>"
      ]
     },
     "metadata": {},
     "output_type": "display_data"
    }
   ],
   "source": [
    "g = sns.FacetGrid(data=data,col='active')\n",
    "g.map(plt.hist,'cardio')"
   ]
  },
  {
   "cell_type": "code",
   "execution_count": 919,
   "id": "4c172df7",
   "metadata": {},
   "outputs": [
    {
     "data": {
      "text/plain": [
       "<seaborn.axisgrid.FacetGrid at 0x22bba78b850>"
      ]
     },
     "execution_count": 919,
     "metadata": {},
     "output_type": "execute_result"
    },
    {
     "data": {
      "image/png": "[encoded data removed]",
      "text/plain": [
       "<Figure size 648x216 with 3 Axes>"
      ]
     },
     "metadata": {},
     "output_type": "display_data"
    }
   ],
   "source": [
    "g = sns.FacetGrid(data=data,col='cholesterol')\n",
    "g.map(plt.hist,'cardio')"
   ]
  },
  {
   "cell_type": "code",
   "execution_count": 920,
   "id": "04324e59",
   "metadata": {},
   "outputs": [
    {
     "data": {
      "text/html": [
       "<div>\n",
       "<style scoped>\n",
       "    .dataframe tbody tr th:only-of-type {\n",
       "        vertical-align: middle;\n",
       "    }\n",
       "\n",
       "    .dataframe tbody tr th {\n",
       "        vertical-align: top;\n",
       "    }\n",
       "\n",
       "    .dataframe thead th {\n",
       "        text-align: right;\n",
       "    }\n",
       "</style>\n",
       "<table border=\"1\" class=\"dataframe\">\n",
       "  <thead>\n",
       "    <tr style=\"text-align: right;\">\n",
       "      <th></th>\n",
       "      <th>age</th>\n",
       "      <th>gender</th>\n",
       "      <th>height</th>\n",
       "      <th>weight</th>\n",
       "      <th>ap_hi</th>\n",
       "      <th>ap_lo</th>\n",
       "      <th>cholesterol</th>\n",
       "      <th>gluc</th>\n",
       "      <th>smoke</th>\n",
       "      <th>alco</th>\n",
       "      <th>active</th>\n",
       "      <th>cardio</th>\n",
       "      <th>bmi</th>\n",
       "    </tr>\n",
       "  </thead>\n",
       "  <tbody>\n",
       "    <tr>\n",
       "      <th>age</th>\n",
       "      <td>1.000000</td>\n",
       "      <td>-0.023360</td>\n",
       "      <td>-0.084454</td>\n",
       "      <td>0.055819</td>\n",
       "      <td>0.201653</td>\n",
       "      <td>0.147323</td>\n",
       "      <td>0.154297</td>\n",
       "      <td>0.098985</td>\n",
       "      <td>-0.047936</td>\n",
       "      <td>-0.029660</td>\n",
       "      <td>-0.009801</td>\n",
       "      <td>0.237709</td>\n",
       "      <td>0.102015</td>\n",
       "    </tr>\n",
       "    <tr>\n",
       "      <th>gender</th>\n",
       "      <td>-0.023360</td>\n",
       "      <td>1.000000</td>\n",
       "      <td>0.513610</td>\n",
       "      <td>0.157233</td>\n",
       "      <td>0.060152</td>\n",
       "      <td>0.067062</td>\n",
       "      <td>-0.036335</td>\n",
       "      <td>-0.021154</td>\n",
       "      <td>0.337608</td>\n",
       "      <td>0.171015</td>\n",
       "      <td>0.006241</td>\n",
       "      <td>0.008592</td>\n",
       "      <td>-0.110599</td>\n",
       "    </tr>\n",
       "    <tr>\n",
       "      <th>height</th>\n",
       "      <td>-0.084454</td>\n",
       "      <td>0.513610</td>\n",
       "      <td>1.000000</td>\n",
       "      <td>0.304102</td>\n",
       "      <td>0.015151</td>\n",
       "      <td>0.032035</td>\n",
       "      <td>-0.053322</td>\n",
       "      <td>-0.020335</td>\n",
       "      <td>0.193188</td>\n",
       "      <td>0.096598</td>\n",
       "      <td>-0.007075</td>\n",
       "      <td>-0.011855</td>\n",
       "      <td>-0.216733</td>\n",
       "    </tr>\n",
       "    <tr>\n",
       "      <th>weight</th>\n",
       "      <td>0.055819</td>\n",
       "      <td>0.157233</td>\n",
       "      <td>0.304102</td>\n",
       "      <td>1.000000</td>\n",
       "      <td>0.267074</td>\n",
       "      <td>0.249704</td>\n",
       "      <td>0.143243</td>\n",
       "      <td>0.107990</td>\n",
       "      <td>0.068868</td>\n",
       "      <td>0.067568</td>\n",
       "      <td>-0.017181</td>\n",
       "      <td>0.183429</td>\n",
       "      <td>0.857488</td>\n",
       "    </tr>\n",
       "    <tr>\n",
       "      <th>ap_hi</th>\n",
       "      <td>0.201653</td>\n",
       "      <td>0.060152</td>\n",
       "      <td>0.015151</td>\n",
       "      <td>0.267074</td>\n",
       "      <td>1.000000</td>\n",
       "      <td>0.684838</td>\n",
       "      <td>0.191334</td>\n",
       "      <td>0.090982</td>\n",
       "      <td>0.028066</td>\n",
       "      <td>0.032384</td>\n",
       "      <td>0.003036</td>\n",
       "      <td>0.418812</td>\n",
       "      <td>0.262995</td>\n",
       "    </tr>\n",
       "    <tr>\n",
       "      <th>ap_lo</th>\n",
       "      <td>0.147323</td>\n",
       "      <td>0.067062</td>\n",
       "      <td>0.032035</td>\n",
       "      <td>0.249704</td>\n",
       "      <td>0.684838</td>\n",
       "      <td>1.000000</td>\n",
       "      <td>0.155771</td>\n",
       "      <td>0.073118</td>\n",
       "      <td>0.026881</td>\n",
       "      <td>0.040399</td>\n",
       "      <td>0.003027</td>\n",
       "      <td>0.337503</td>\n",
       "      <td>0.236934</td>\n",
       "    </tr>\n",
       "    <tr>\n",
       "      <th>cholesterol</th>\n",
       "      <td>0.154297</td>\n",
       "      <td>-0.036335</td>\n",
       "      <td>-0.053322</td>\n",
       "      <td>0.143243</td>\n",
       "      <td>0.191334</td>\n",
       "      <td>0.155771</td>\n",
       "      <td>1.000000</td>\n",
       "      <td>0.451741</td>\n",
       "      <td>0.010237</td>\n",
       "      <td>0.036015</td>\n",
       "      <td>0.009708</td>\n",
       "      <td>0.220752</td>\n",
       "      <td>0.172291</td>\n",
       "    </tr>\n",
       "    <tr>\n",
       "      <th>gluc</th>\n",
       "      <td>0.098985</td>\n",
       "      <td>-0.021154</td>\n",
       "      <td>-0.020335</td>\n",
       "      <td>0.107990</td>\n",
       "      <td>0.090982</td>\n",
       "      <td>0.073118</td>\n",
       "      <td>0.451741</td>\n",
       "      <td>1.000000</td>\n",
       "      <td>-0.004608</td>\n",
       "      <td>0.011442</td>\n",
       "      <td>-0.007301</td>\n",
       "      <td>0.089062</td>\n",
       "      <td>0.119492</td>\n",
       "    </tr>\n",
       "    <tr>\n",
       "      <th>smoke</th>\n",
       "      <td>-0.047936</td>\n",
       "      <td>0.337608</td>\n",
       "      <td>0.193188</td>\n",
       "      <td>0.068868</td>\n",
       "      <td>0.028066</td>\n",
       "      <td>0.026881</td>\n",
       "      <td>0.010237</td>\n",
       "      <td>-0.004608</td>\n",
       "      <td>1.000000</td>\n",
       "      <td>0.339709</td>\n",
       "      <td>0.025794</td>\n",
       "      <td>-0.015225</td>\n",
       "      <td>-0.032139</td>\n",
       "    </tr>\n",
       "    <tr>\n",
       "      <th>alco</th>\n",
       "      <td>-0.029660</td>\n",
       "      <td>0.171015</td>\n",
       "      <td>0.096598</td>\n",
       "      <td>0.067568</td>\n",
       "      <td>0.032384</td>\n",
       "      <td>0.040399</td>\n",
       "      <td>0.036015</td>\n",
       "      <td>0.011442</td>\n",
       "      <td>0.339709</td>\n",
       "      <td>1.000000</td>\n",
       "      <td>0.025745</td>\n",
       "      <td>-0.007217</td>\n",
       "      <td>0.017431</td>\n",
       "    </tr>\n",
       "    <tr>\n",
       "      <th>active</th>\n",
       "      <td>-0.009801</td>\n",
       "      <td>0.006241</td>\n",
       "      <td>-0.007075</td>\n",
       "      <td>-0.017181</td>\n",
       "      <td>0.003036</td>\n",
       "      <td>0.003027</td>\n",
       "      <td>0.009708</td>\n",
       "      <td>-0.007301</td>\n",
       "      <td>0.025794</td>\n",
       "      <td>0.025745</td>\n",
       "      <td>1.000000</td>\n",
       "      <td>-0.035592</td>\n",
       "      <td>-0.014900</td>\n",
       "    </tr>\n",
       "    <tr>\n",
       "      <th>cardio</th>\n",
       "      <td>0.237709</td>\n",
       "      <td>0.008592</td>\n",
       "      <td>-0.011855</td>\n",
       "      <td>0.183429</td>\n",
       "      <td>0.418812</td>\n",
       "      <td>0.337503</td>\n",
       "      <td>0.220752</td>\n",
       "      <td>0.089062</td>\n",
       "      <td>-0.015225</td>\n",
       "      <td>-0.007217</td>\n",
       "      <td>-0.035592</td>\n",
       "      <td>1.000000</td>\n",
       "      <td>0.192596</td>\n",
       "    </tr>\n",
       "    <tr>\n",
       "      <th>bmi</th>\n",
       "      <td>0.102015</td>\n",
       "      <td>-0.110599</td>\n",
       "      <td>-0.216733</td>\n",
       "      <td>0.857488</td>\n",
       "      <td>0.262995</td>\n",
       "      <td>0.236934</td>\n",
       "      <td>0.172291</td>\n",
       "      <td>0.119492</td>\n",
       "      <td>-0.032139</td>\n",
       "      <td>0.017431</td>\n",
       "      <td>-0.014900</td>\n",
       "      <td>0.192596</td>\n",
       "      <td>1.000000</td>\n",
       "    </tr>\n",
       "  </tbody>\n",
       "</table>\n",
       "</div>"
      ],
      "text/plain": [
       "                  age    gender    height    weight     ap_hi     ap_lo  \\\n",
       "age          1.000000 -0.023360 -0.084454  0.055819  0.201653  0.147323   \n",
       "gender      -0.023360  1.000000  0.513610  0.157233  0.060152  0.067062   \n",
       "height      -0.084454  0.513610  1.000000  0.304102  0.015151  0.032035   \n",
       "weight       0.055819  0.157233  0.304102  1.000000  0.267074  0.249704   \n",
       "ap_hi        0.201653  0.060152  0.015151  0.267074  1.000000  0.684838   \n",
       "ap_lo        0.147323  0.067062  0.032035  0.249704  0.684838  1.000000   \n",
       "cholesterol  0.154297 -0.036335 -0.053322  0.143243  0.191334  0.155771   \n",
       "gluc         0.098985 -0.021154 -0.020335  0.107990  0.090982  0.073118   \n",
       "smoke       -0.047936  0.337608  0.193188  0.068868  0.028066  0.026881   \n",
       "alco        -0.029660  0.171015  0.096598  0.067568  0.032384  0.040399   \n",
       "active      -0.009801  0.006241 -0.007075 -0.017181  0.003036  0.003027   \n",
       "cardio       0.237709  0.008592 -0.011855  0.183429  0.418812  0.337503   \n",
       "bmi          0.102015 -0.110599 -0.216733  0.857488  0.262995  0.236934   \n",
       "\n",
       "             cholesterol      gluc     smoke      alco    active    cardio  \\\n",
       "age             0.154297  0.098985 -0.047936 -0.029660 -0.009801  0.237709   \n",
       "gender         -0.036335 -0.021154  0.337608  0.171015  0.006241  0.008592   \n",
       "height         -0.053322 -0.020335  0.193188  0.096598 -0.007075 -0.011855   \n",
       "weight          0.143243  0.107990  0.068868  0.067568 -0.017181  0.183429   \n",
       "ap_hi           0.191334  0.090982  0.028066  0.032384  0.003036  0.418812   \n",
       "ap_lo           0.155771  0.073118  0.026881  0.040399  0.003027  0.337503   \n",
       "cholesterol     1.000000  0.451741  0.010237  0.036015  0.009708  0.220752   \n",
       "gluc            0.451741  1.000000 -0.004608  0.011442 -0.007301  0.089062   \n",
       "smoke           0.010237 -0.004608  1.000000  0.339709  0.025794 -0.015225   \n",
       "alco            0.036015  0.011442  0.339709  1.000000  0.025745 -0.007217   \n",
       "active          0.009708 -0.007301  0.025794  0.025745  1.000000 -0.035592   \n",
       "cardio          0.220752  0.089062 -0.015225 -0.007217 -0.035592  1.000000   \n",
       "bmi             0.172291  0.119492 -0.032139  0.017431 -0.014900  0.192596   \n",
       "\n",
       "                  bmi  \n",
       "age          0.102015  \n",
       "gender      -0.110599  \n",
       "height      -0.216733  \n",
       "weight       0.857488  \n",
       "ap_hi        0.262995  \n",
       "ap_lo        0.236934  \n",
       "cholesterol  0.172291  \n",
       "gluc         0.119492  \n",
       "smoke       -0.032139  \n",
       "alco         0.017431  \n",
       "active      -0.014900  \n",
       "cardio       0.192596  \n",
       "bmi          1.000000  "
      ]
     },
     "execution_count": 920,
     "metadata": {},
     "output_type": "execute_result"
    }
   ],
   "source": [
    "data.corr()"
   ]
  },
  {
   "cell_type": "code",
   "execution_count": 921,
   "id": "78cc2f72",
   "metadata": {},
   "outputs": [
    {
     "data": {
      "image/png": "[encoded data removed]",
      "text/plain": [
       "<Figure size 864x720 with 2 Axes>"
      ]
     },
     "metadata": {},
     "output_type": "display_data"
    }
   ],
   "source": [
    "sns.heatmap(data.corr(), annot=True, cmap=\"Blues\")\n",
    "fig = plt.gcf()\n",
    "fig.set_size_inches(12,10)"
   ]
  },
  {
   "cell_type": "code",
   "execution_count": 922,
   "id": "0eb90562",
   "metadata": {},
   "outputs": [],
   "source": [
    "from sklearn.model_selection import train_test_split\n",
    "x=data.drop('cardio',axis=1)\n",
    "y=data.cardio\n",
    "x_test, x_train, y_test, y_train= train_test_split(x,y,test_size = .33,random_state=42)"
   ]
  },
  {
   "cell_type": "code",
   "execution_count": 923,
   "id": "a96a6202",
   "metadata": {},
   "outputs": [],
   "source": [
    "model = LogisticRegression()"
   ]
  },
  {
   "cell_type": "code",
   "execution_count": 924,
   "id": "65349e43",
   "metadata": {
    "scrolled": true
   },
   "outputs": [
    {
     "name": "stderr",
     "output_type": "stream",
     "text": [
      "C:\\Users\\hp\\anaconda3\\lib\\site-packages\\sklearn\\linear_model\\_logistic.py:763: ConvergenceWarning: lbfgs failed to converge (status=1):\n",
      "STOP: TOTAL NO. of ITERATIONS REACHED LIMIT.\n",
      "\n",
      "Increase the number of iterations (max_iter) or scale the data as shown in:\n",
      "    https://scikit-learn.org/stable/modules/preprocessing.html\n",
      "Please also refer to the documentation for alternative solver options:\n",
      "    https://scikit-learn.org/stable/modules/linear_model.html#logistic-regression\n",
      "  n_iter_i = _check_optimize_result(\n"
     ]
    },
    {
     "data": {
      "text/plain": [
       "LogisticRegression()"
      ]
     },
     "execution_count": 924,
     "metadata": {},
     "output_type": "execute_result"
    }
   ],
   "source": [
    "model.fit(x_train, y_train)"
   ]
  },
  {
   "cell_type": "code",
   "execution_count": 925,
   "id": "dc7326af",
   "metadata": {},
   "outputs": [
    {
     "data": {
      "text/plain": [
       "0.725360734586795"
      ]
     },
     "execution_count": 925,
     "metadata": {},
     "output_type": "execute_result"
    }
   ],
   "source": [
    "model.score(x_train,y_train)"
   ]
  },
  {
   "cell_type": "code",
   "execution_count": 995,
   "id": "99e1eec3",
   "metadata": {},
   "outputs": [
    {
     "name": "stdout",
     "output_type": "stream",
     "text": [
      "[1]\n"
     ]
    }
   ],
   "source": [
    "age=60\n",
    "gender=0\n",
    "height=160\n",
    "weight=90\n",
    "ap_hi=120\n",
    "ap_lo=90\n",
    "chol=3\n",
    "gluc=3\n",
    "smoke=1\n",
    "alco=1\n",
    "active=1\n",
    "bmi=round(weight/ (height/100)**2, 2)\n",
    "features =np.array([[age,gender,height,weight,ap_hi,ap_lo,chol,gluc,smoke,alco,active,bmi]])\n",
    "y_pred = model.predict(features)\n",
    "print(y_pred)"
   ]
  },
  {
   "cell_type": "code",
   "execution_count": 984,
   "id": "005d1724",
   "metadata": {},
   "outputs": [],
   "source": [
    "y_pred = model.predict(x_test)"
   ]
  },
  {
   "cell_type": "code",
   "execution_count": 985,
   "id": "94da1d89",
   "metadata": {},
   "outputs": [
    {
     "data": {
      "text/html": [
       "<div>\n",
       "<style scoped>\n",
       "    .dataframe tbody tr th:only-of-type {\n",
       "        vertical-align: middle;\n",
       "    }\n",
       "\n",
       "    .dataframe tbody tr th {\n",
       "        vertical-align: top;\n",
       "    }\n",
       "\n",
       "    .dataframe thead th {\n",
       "        text-align: right;\n",
       "    }\n",
       "</style>\n",
       "<table border=\"1\" class=\"dataframe\">\n",
       "  <thead>\n",
       "    <tr style=\"text-align: right;\">\n",
       "      <th>Predicted</th>\n",
       "      <th>0</th>\n",
       "      <th>1</th>\n",
       "    </tr>\n",
       "    <tr>\n",
       "      <th>Actual</th>\n",
       "      <th></th>\n",
       "      <th></th>\n",
       "    </tr>\n",
       "  </thead>\n",
       "  <tbody>\n",
       "    <tr>\n",
       "      <th>0</th>\n",
       "      <td>18109</td>\n",
       "      <td>5192</td>\n",
       "    </tr>\n",
       "    <tr>\n",
       "      <th>1</th>\n",
       "      <td>7470</td>\n",
       "      <td>15660</td>\n",
       "    </tr>\n",
       "  </tbody>\n",
       "</table>\n",
       "</div>"
      ],
      "text/plain": [
       "Predicted      0      1\n",
       "Actual                 \n",
       "0          18109   5192\n",
       "1           7470  15660"
      ]
     },
     "execution_count": 985,
     "metadata": {},
     "output_type": "execute_result"
    }
   ],
   "source": [
    "pd.crosstab(y_test, y_pred, rownames=['Actual'], colnames=['Predicted'])"
   ]
  },
  {
   "cell_type": "code",
   "execution_count": 754,
   "id": "875d2190",
   "metadata": {},
   "outputs": [],
   "source": [
    "from sklearn.naive_bayes import GaussianNB, MultinomialNB\n",
    "model=MultinomialNB()\n",
    "from sklearn.preprocessing import MinMaxScaler #fixed import\n",
    "scaler = MinMaxScaler()\n",
    "x_train = scaler.fit_transform(x_train)\n",
    "x_test = scaler.transform(x_test)"
   ]
  },
  {
   "cell_type": "code",
   "execution_count": 755,
   "id": "909593fe",
   "metadata": {},
   "outputs": [
    {
     "data": {
      "text/plain": [
       "MultinomialNB()"
      ]
     },
     "execution_count": 755,
     "metadata": {},
     "output_type": "execute_result"
    }
   ],
   "source": [
    "model.fit(x_train,y_train)"
   ]
  },
  {
   "cell_type": "code",
   "execution_count": 756,
   "id": "71adc799",
   "metadata": {},
   "outputs": [
    {
     "data": {
      "text/plain": [
       "0.5926541320507215"
      ]
     },
     "execution_count": 756,
     "metadata": {},
     "output_type": "execute_result"
    }
   ],
   "source": [
    "model.score(x_train,y_train)"
   ]
  }
 ],
 "metadata": {
  "kernelspec": {
   "display_name": "Python 3 (ipykernel)",
   "language": "python",
   "name": "python3"
  },
  "language_info": {
   "codemirror_mode": {
    "name": "ipython",
    "version": 3
   },
   "file_extension": ".py",
   "mimetype": "text/x-python",
   "name": "python",
   "nbconvert_exporter": "python",
   "pygments_lexer": "ipython3",
   "version": "3.9.7"
  }
 },
 "nbformat": 4,
 "nbformat_minor": 5
}
